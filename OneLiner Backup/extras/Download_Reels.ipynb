{
  "nbformat": 4,
  "nbformat_minor": 0,
  "metadata": {
    "colab": {
      "provenance": [],
      "authorship_tag": "ABX9TyOi/RiKD+LnwRuYZyfpvrAd",
      "include_colab_link": true
    },
    "kernelspec": {
      "name": "python3",
      "display_name": "Python 3"
    },
    "language_info": {
      "name": "python"
    }
  },
  "cells": [
    {
      "cell_type": "markdown",
      "metadata": {
        "id": "view-in-github",
        "colab_type": "text"
      },
      "source": [
        "<a href=\"https://colab.research.google.com/github/imvickykumar999/Download-Reels/blob/main/Download_Reels.ipynb\" target=\"_parent\"><img src=\"https://colab.research.google.com/assets/colab-badge.svg\" alt=\"Open In Colab\"/></a>"
      ]
    },
    {
      "cell_type": "code",
      "execution_count": 10,
      "metadata": {
        "colab": {
          "base_uri": "https://localhost:8080/",
          "height": 53
        },
        "id": "A8Y4eIFnLlAo",
        "outputId": "d533aef4-5932-408d-9b4a-84b68dfbd64f"
      },
      "outputs": [
        {
          "name": "stdout",
          "output_type": "stream",
          "text": [
            "Enter reel link :https://www.instagram.com/reels/videos/CmneyR0DPuM/\n"
          ]
        },
        {
          "output_type": "execute_result",
          "data": {
            "text/plain": [
              "'CmneyR0DPuM'"
            ],
            "application/vnd.google.colaboratory.intrinsic+json": {
              "type": "string"
            }
          },
          "metadata": {},
          "execution_count": 10
        }
      ],
      "source": [
        "import re\n",
        "\n",
        "reel_id = input('Enter reel link :')\n",
        "reel_id = list(reel_id.split('/'))\n",
        "\n",
        "if len(reel_id[4]) == 11:\n",
        "    reel_id = reel_id[4]\n",
        "elif len(reel_id[5]) == 11:\n",
        "    reel_id = reel_id[5]\n",
        "else:\n",
        "    reel_id = 'CoT1MflIGJg' # default value if error.\n",
        "\n",
        "reel_id"
      ]
    },
    {
      "cell_type": "code",
      "source": [
        "link = f'https://www.instagram.com/reel/{reel_id}/'\n",
        "dev_link = link + '?__a=1&__d=dis'\n",
        "print('\\nClick below link ...')\n",
        "print(dev_link)\n",
        "\n",
        "dev_json = input('''\n",
        "\n",
        "1. Click above link\n",
        "2. Copy site content\n",
        "3. Paste below.\n",
        "\n",
        "''')"
      ],
      "metadata": {
        "colab": {
          "base_uri": "https://localhost:8080/"
        },
        "id": "61A8STElMkjO",
        "outputId": "c752e29f-ad0c-42b1-a450-a79f9dec0678"
      },
      "execution_count": 11,
      "outputs": [
        {
          "name": "stdout",
          "output_type": "stream",
          "text": [
            "\n",
            "Click below link ...\n",
            "https://www.instagram.com/reel/CmneyR0DPuM/?__a=1&__d=dis\n",
            "\n",
            "\n",
            "1. Click above link\n",
            "2. Copy site content\n",
            "3. Paste below.\n",
            "\n",
            "{\"items\":[{\"taken_at\":1672027100,\"pk\":3001503073161771916,\"id\":\"3001503073161771916_48527452367\",\"device_timestamp\":48983582740062,\"media_type\":2,\"code\":\"CmneyR0DPuM\",\"client_cache_key\":\"MzAwMTUwMzA3MzE2MTc3MTkxNg==.2\",\"filter_type\":0,\"is_unified_video\":false,\"should_request_ads\":false,\"original_media_has_visual_reply_media\":false,\"caption_is_edited\":false,\"like_and_view_counts_disabled\":false,\"commerciality_status\":\"not_commercial\",\"is_paid_partnership\":false,\"is_visual_reply_commenter_notice_enabled\":true,\"clips_tab_pinned_user_ids\":[],\"has_delayed_metadata\":false,\"comment_likes_enabled\":true,\"comment_threading_enabled\":true,\"max_num_visible_preview_comments\":2,\"has_more_comments\":true,\"preview_comments\":[],\"photo_of_you\":false,\"usertags\":{\"in\":[{\"user\":{\"pk\":1381101303,\"pk_id\":\"1381101303\",\"username\":\"rashmika_mandanna\",\"full_name\":\"Rashmika Mandanna\",\"is_private\":false,\"is_verified\":true,\"friendship_status\":{\"following\":false,\"followed_by\":false,\"blocking\":false,\"muting\":false,\"is_private\":false,\"incoming_request\":false,\"outgoing_request\":false,\"is_bestie\":false,\"is_restricted\":false,\"is_feed_favorite\":false},\"profile_pic_id\":\"3011835471038074000_1381101303\",\"profile_pic_url\":\"https://scontent-ams2-1.cdninstagram.com/v/t51.2885-19/324225920_132260632802102_4491008601804302984_n.jpg?stp=dst-jpg_s150x150&_nc_ht=scontent-ams2-1.cdninstagram.com&_nc_cat=1&_nc_ohc=upUw31v_ylMAX-uhVYu&edm=APfKNqwBAAAA&ccb=7-5&oh=00_AfBL0luR3lByS4CuP6VSm-dlx5s_6HBAYhTXX79i98GFAg&oe=63EADA09&_nc_sid=74f7ba\"},\"position\":[0.0,0.0],\"start_time_in_video_in_sec\":null,\"duration_in_video_in_sec\":null}]},\"is_organic_product_tagging_eligible\":false,\"can_see_insights_as_brand\":false,\"user\":{\"has_anonymous_profile_picture\":false,\"show_account_transparency_details\":true,\"fan_club_info\":{\"fan_club_id\":null,\"fan_club_name\":null,\"is_fan_club_referral_eligible\":null,\"fan_consideration_page_revamp_eligiblity\":null,\"is_fan_club_gifting_eligible\":null},\"transparency_product_enabled\":false,\"latest_reel_media\":0,\"is_favorite\":false,\"is_unpublished\":false,\"pk\":48527452367,\"pk_id\":\"48527452367\",\"username\":\"rashmika_mandanma\",\"full_name\":\"Rashmika Mandanna\",\"is_private\":false,\"is_verified\":false,\"friendship_status\":{\"following\":false,\"outgoing_request\":false,\"is_bestie\":false,\"is_restricted\":false,\"is_feed_favorite\":false},\"profile_pic_id\":\"2960376938401771184_48527452367\",\"profile_pic_url\":\"https://scontent-ams2-1.cdninstagram.com/v/t51.2885-19/313189485_5631518200275885_1645758629353202559_n.jpg?stp=dst-jpg_s150x150&_nc_ht=scontent-ams2-1.cdninstagram.com&_nc_cat=1&_nc_ohc=czYYH6Q-YbQAX-9T6vU&edm=APfKNqwBAAAA&ccb=7-5&oh=00_AfC3FWcv83cAz7rhc2DgXprtC9vrtk9Cnj9pRt5McvzCvQ&oe=63EBE954&_nc_sid=74f7ba\",\"account_badges\":[]},\"can_viewer_reshare\":true,\"like_count\":551252,\"has_liked\":false,\"top_likers\":[],\"facepile_top_likers\":[],\"image_versions2\":{\"candidates\":[{\"width\":480,\"height\":854,\"url\":\"https://scontent-ams2-1.cdninstagram.com/v/t51.2885-15/322043239_659277402655953_2538768266848532598_n.jpg?stp=dst-jpg_e15&_nc_ht=scontent-ams2-1.cdninstagram.com&_nc_cat=1&_nc_ohc=QMFJI8Mc3jYAX-CHa-F&edm=APfKNqwBAAAA&ccb=7-5&ig_cache_key=MzAwMTUwMzA3MzE2MTc3MTkxNg%3D%3D.2-ccb7-5&oh=00_AfAJF6pJbuAzGCQXiskLcKmG3ChjyhVMlSRJbV4KCXwUbg&oe=63EB38E2&_nc_sid=74f7ba\"},{\"width\":320,\"height\":569,\"url\":\"https://scontent-ams2-1.cdninstagram.com/v/t51.2885-15/322043239_659277402655953_2538768266848532598_n.jpg?stp=dst-jpg_e15_p320x320&_nc_ht=scontent-ams2-1.cdninstagram.com&_nc_cat=1&_nc_ohc=QMFJI8Mc3jYAX-CHa-F&edm=APfKNqwBAAAA&ccb=7-5&ig_cache_key=MzAwMTUwMzA3MzE2MTc3MTkxNg%3D%3D.2-ccb7-5&oh=00_AfCZcr8PI1jiLiXazvohPyHEoxmm7bjxyR-Xw4cHZLxyyw&oe=63EB38E2&_nc_sid=74f7ba\"},{\"width\":240,\"height\":427,\"url\":\"https://scontent-ams2-1.cdninstagram.com/v/t51.2885-15/322043239_659277402655953_2538768266848532598_n.jpg?stp=dst-jpg_e15_p240x240&_nc_ht=scontent-ams2-1.cdninstagram.com&_nc_cat=1&_nc_ohc=QMFJI8Mc3jYAX-CHa-F&edm=APfKNqwBAAAA&ccb=7-5&ig_cache_key=MzAwMTUwMzA3MzE2MTc3MTkxNg%3D%3D.2-ccb7-5&oh=00_AfBVEnXfLc249KGdFjn5o8hU-HtZfZ4bmvyBZK9yQGgSPw&oe=63EB38E2&_nc_sid=74f7ba\"},{\"width\":1080,\"height\":1080,\"url\":\"https://scontent-ams2-1.cdninstagram.com/v/t51.2885-15/322043239_659277402655953_2538768266848532598_n.jpg?stp=c0.187.480.480a_dst-jpg_e15&_nc_ht=scontent-ams2-1.cdninstagram.com&_nc_cat=1&_nc_ohc=QMFJI8Mc3jYAX-CHa-F&edm=APfKNqwBAAAA&ccb=7-5&ig_cache_key=MzAwMTUwMzA3MzE2MTc3MTkxNg%3D%3D.2-ccb7-5&oh=00_AfCLI4YFBmEalY1BxgDsZaur0bCzOejyUEs3XNMEy_Qv9Q&oe=63EB38E2&_nc_sid=74f7ba\"},{\"width\":750,\"height\":750,\"url\":\"https://scontent-ams2-1.cdninstagram.com/v/t51.2885-15/322043239_659277402655953_2538768266848532598_n.jpg?stp=c0.187.480.480a_dst-jpg_e15&_nc_ht=scontent-ams2-1.cdninstagram.com&_nc_cat=1&_nc_ohc=QMFJI8Mc3jYAX-CHa-F&edm=APfKNqwBAAAA&ccb=7-5&ig_cache_key=MzAwMTUwMzA3MzE2MTc3MTkxNg%3D%3D.2-ccb7-5&oh=00_AfCLI4YFBmEalY1BxgDsZaur0bCzOejyUEs3XNMEy_Qv9Q&oe=63EB38E2&_nc_sid=74f7ba\"},{\"width\":640,\"height\":640,\"url\":\"https://scontent-ams2-1.cdninstagram.com/v/t51.2885-15/322043239_659277402655953_2538768266848532598_n.jpg?stp=c0.187.480.480a_dst-jpg_e15&_nc_ht=scontent-ams2-1.cdninstagram.com&_nc_cat=1&_nc_ohc=QMFJI8Mc3jYAX-CHa-F&edm=APfKNqwBAAAA&ccb=7-5&ig_cache_key=MzAwMTUwMzA3MzE2MTc3MTkxNg%3D%3D.2-ccb7-5&oh=00_AfCLI4YFBmEalY1BxgDsZaur0bCzOejyUEs3XNMEy_Qv9Q&oe=63EB38E2&_nc_sid=74f7ba\"},{\"width\":480,\"height\":480,\"url\":\"https://scontent-ams2-1.cdninstagram.com/v/t51.2885-15/322043239_659277402655953_2538768266848532598_n.jpg?stp=c0.187.480.480a_dst-jpg_e15&_nc_ht=scontent-ams2-1.cdninstagram.com&_nc_cat=1&_nc_ohc=QMFJI8Mc3jYAX-CHa-F&edm=APfKNqwBAAAA&ccb=7-5&ig_cache_key=MzAwMTUwMzA3MzE2MTc3MTkxNg%3D%3D.2-ccb7-5&oh=00_AfCLI4YFBmEalY1BxgDsZaur0bCzOejyUEs3XNMEy_Qv9Q&oe=63EB38E2&_nc_sid=74f7ba\"},{\"width\":320,\"height\":320,\"url\":\"https://scontent-ams2-1.cdninstagram.com/v/t51.2885-15/322043239_659277402655953_2538768266848532598_n.jpg?stp=c0.187.480.480a_dst-jpg_e15_s320x320&_nc_ht=scontent-ams2-1.cdninstagram.com&_nc_cat=1&_nc_ohc=QMFJI8Mc3jYAX-CHa-F&edm=APfKNqwBAAAA&ccb=7-5&ig_cache_key=MzAwMTUwMzA3MzE2MTc3MTkxNg%3D%3D.2-ccb7-5&oh=00_AfD5Xnnc5Ug_oVrjYIT4xEMalhoEn-sOe9R3jQYZQvfldA&oe=63EB38E2&_nc_sid=74f7ba\"},{\"width\":240,\"height\":240,\"url\":\"https://scontent-ams2-1.cdninstagram.com/v/t51.2885-15/322043239_659277402655953_2538768266848532598_n.jpg?stp=c0.187.480.480a_dst-jpg_e15_s240x240&_nc_ht=scontent-ams2-1.cdninstagram.com&_nc_cat=1&_nc_ohc=QMFJI8Mc3jYAX-CHa-F&edm=APfKNqwBAAAA&ccb=7-5&ig_cache_key=MzAwMTUwMzA3MzE2MTc3MTkxNg%3D%3D.2-ccb7-5&oh=00_AfDd2rib6x2-Td8d0keJsTZfzPC8gBjUUJ1tmHZ02GRIDg&oe=63EB38E2&_nc_sid=74f7ba\"},{\"width\":150,\"height\":150,\"url\":\"https://scontent-ams2-1.cdninstagram.com/v/t51.2885-15/322043239_659277402655953_2538768266848532598_n.jpg?stp=c0.187.480.480a_dst-jpg_e15_s150x150&_nc_ht=scontent-ams2-1.cdninstagram.com&_nc_cat=1&_nc_ohc=QMFJI8Mc3jYAX-CHa-F&edm=APfKNqwBAAAA&ccb=7-5&ig_cache_key=MzAwMTUwMzA3MzE2MTc3MTkxNg%3D%3D.2-ccb7-5&oh=00_AfAsrQdgPfYPcUXDsmF0JqLAFV6BnHtIaW-yhsrEU6kvCg&oe=63EB38E2&_nc_sid=74f7ba\"}],\"additional_candidates\":{\"igtv_first_frame\":{\"width\":640,\"height\":1136,\"url\":\"https://scontent-ams2-1.cdninstagram.com/v/t51.2885-15/321154617_186234460747008_7670132961520742248_n.jpg?stp=dst-jpg_e15&_nc_ht=scontent-ams2-1.cdninstagram.com&_nc_cat=1&_nc_ohc=snfLIkBNRWkAX_u9X0P&edm=APfKNqwBAAAA&ccb=7-5&oh=00_AfBeMdBnlkA3ilDStwCZudvdqAQVs5bD6pcPFyEXSsLtuA&oe=63EB35C1&_nc_sid=74f7ba\"},\"first_frame\":{\"width\":640,\"height\":1136,\"url\":\"https://scontent-ams2-1.cdninstagram.com/v/t51.2885-15/321154617_186234460747008_7670132961520742248_n.jpg?stp=dst-jpg_e15&_nc_ht=scontent-ams2-1.cdninstagram.com&_nc_cat=1&_nc_ohc=snfLIkBNRWkAX_u9X0P&edm=APfKNqwBAAAA&ccb=7-5&oh=00_AfBeMdBnlkA3ilDStwCZudvdqAQVs5bD6pcPFyEXSsLtuA&oe=63EB35C1&_nc_sid=74f7ba\"},\"smart_frame\":null},\"smart_thumbnail_enabled\":false},\"original_width\":720,\"original_height\":1280,\"caption\":{\"pk\":17875851665756252,\"user_id\":48527452367,\"text\":\"So cute Crushmika\\u2764\\ud83d\\ude1cThe way she ate mithai\\n.\\n#rashmikamandanna \\n#rashmikamandanna @rashmika_mandanna\",\"type\":1,\"created_at\":1672027102,\"created_at_utc\":1672027102,\"content_type\":\"comment\",\"status\":\"Active\",\"bit_flags\":0,\"did_report_as_spam\":false,\"share_enabled\":false,\"user\":{\"pk\":48527452367,\"pk_id\":\"48527452367\",\"username\":\"rashmika_mandanma\",\"full_name\":\"Rashmika Mandanna\",\"is_private\":false,\"is_verified\":false,\"profile_pic_id\":\"2960376938401771184_48527452367\",\"profile_pic_url\":\"https://scontent-ams2-1.cdninstagram.com/v/t51.2885-19/313189485_5631518200275885_1645758629353202559_n.jpg?stp=dst-jpg_s150x150&_nc_ht=scontent-ams2-1.cdninstagram.com&_nc_cat=1&_nc_ohc=czYYH6Q-YbQAX-9T6vU&edm=APfKNqwBAAAA&ccb=7-5&oh=00_AfC3FWcv83cAz7rhc2DgXprtC9vrtk9Cnj9pRt5McvzCvQ&oe=63EBE954&_nc_sid=74f7ba\",\"fbid_v2\":17841448611015931},\"is_covered\":false,\"is_ranked_comment\":false,\"media_id\":3001503073161771916,\"has_translation\":true,\"private_reply_status\":0},\"comment_inform_treatment\":{\"should_have_inform_treatment\":false,\"text\":\"\",\"url\":null,\"action_type\":null},\"sharing_friction_info\":{\"should_have_sharing_friction\":false,\"bloks_app_url\":null,\"sharing_friction_payload\":null},\"is_dash_eligible\":1,\"video_dash_manifest\":\"<MPD xmlns=\\\"urn:mpeg:dash:schema:mpd:2011\\\" xmlns:xsi=\\\"http://www.w3.org/2001/XMLSchema-instance\\\" xsi:schemaLocation=\\\"urn:mpeg:dash:schema:mpd:2011 DASH-MPD.xsd\\\" profiles=\\\"urn:mpeg:dash:profile:isoff-on-demand:2011\\\" minBufferTime=\\\"PT2S\\\" type=\\\"static\\\" mediaPresentationDuration=\\\"PT0H0M8.870S\\\" maxSegmentDuration=\\\"PT0H0M4.969S\\\">\\n  <Period id=\\\"0\\\" duration=\\\"PT0H0M8.870S\\\">\\n    <AdaptationSet id=\\\"0\\\" contentType=\\\"video\\\" width=\\\"720\\\" height=\\\"1280\\\" frameRate=\\\"15360/512\\\" subsegmentAlignment=\\\"true\\\" par=\\\"9:16\\\" FBUnifiedUploadResolutionMos=\\\"360:70.78\\\">\\n      <Representation id=\\\"910236890166398vd\\\" bandwidth=\\\"1326208\\\" codecs=\\\"vp09.00.31.08.01.01.01.01.00\\\" mimeType=\\\"video/mp4\\\" sar=\\\"1:1\\\" width=\\\"720\\\" height=\\\"1280\\\" FBQualityClass=\\\"hd\\\" FBQualityLabel=\\\"720w\\\" FBPlaybackResolutionMos=\\\"0:100.00,360:91.55,480:89.51,720:85.23\\\">\\n        <BaseURL urlExpiration=\\\"1676176853\\\">https://scontent-ams4-1.cdninstagram.com/v/t66.30100-16/121440701_1764309137284629_7148060493349352928_n.mp4?_nc_ht=scontent-ams4-1.cdninstagram.com&amp;_nc_cat=109&amp;_nc_ohc=10tomM67cuIAX8CahF4&amp;edm=APfKNqwBAAAA&amp;ccb=7-5&amp;oh=00_AfByMgYEYoZtzlxR7r8NNcdtnCz3_BHJtKGkXaS6P-y0Kg&amp;oe=63E80131&amp;_nc_sid=74f7ba</BaseURL>\\n        <SegmentBase indexRange=\\\"792-847\\\" timescale=\\\"15360\\\" FBFirstSegmentRange=\\\"848-871796\\\" FBSecondSegmentRange=\\\"871797-1464354\\\" FBPrefetchSegmentRange=\\\"848-1464354\\\">\\n          <Initialization range=\\\"0-791\\\"/>\\n        </SegmentBase>\\n      </Representation>\\n    <Representation id=\\\"1126272041408176v\\\" bandwidth=\\\"139125\\\" codecs=\\\"vp09.00.21.08.01.01.01.01.00\\\" mimeType=\\\"video/mp4\\\" sar=\\\"1:1\\\" width=\\\"266\\\" height=\\\"472\\\" FBQualityClass=\\\"sd\\\" FBQualityLabel=\\\"266w\\\" FBPlaybackResolutionMos=\\\"0:100.00,360:49.94,480:45.96,720:42.48\\\">\\n        <BaseURL urlExpiration=\\\"1676176853\\\">https://scontent-ams2-1.cdninstagram.com/v/t66.30100-16/46309133_877675510034537_2438924483727407552_n.mp4?_nc_ht=scontent-ams2-1.cdninstagram.com&amp;_nc_cat=105&amp;_nc_ohc=lPhlJ9TpQDcAX_oKh3m&amp;edm=APfKNqwBAAAA&amp;ccb=7-5&amp;oh=00_AfDpaWkJzg1HTA9dwOXDgnI2bemQlKjpBcPNSJ5-E-qiIg&amp;oe=63E7F7CC&amp;_nc_sid=74f7ba</BaseURL>\\n        <SegmentBase indexRange=\\\"792-847\\\" timescale=\\\"15360\\\" FBFirstSegmentRange=\\\"848-89413\\\" FBSecondSegmentRange=\\\"89414-153617\\\" FBPrefetchSegmentRange=\\\"848-153617\\\">\\n          <Initialization range=\\\"0-791\\\"/>\\n        </SegmentBase>\\n      </Representation>\\n    <Representation id=\\\"5863422783706490v\\\" bandwidth=\\\"249279\\\" codecs=\\\"vp09.00.30.08.01.01.01.01.00\\\" mimeType=\\\"video/mp4\\\" sar=\\\"1:1\\\" width=\\\"434\\\" height=\\\"772\\\" FBQualityClass=\\\"sd\\\" FBQualityLabel=\\\"434w\\\" FBPlaybackResolutionMos=\\\"0:100.00,360:66.17,480:62.73,720:58.05\\\">\\n        <BaseURL urlExpiration=\\\"1676176853\\\">https://scontent-ams2-1.cdninstagram.com/v/t66.30100-16/316216621_1221294641758709_4105249483030726803_n.mp4?_nc_ht=scontent-ams2-1.cdninstagram.com&amp;_nc_cat=105&amp;_nc_ohc=b6Auvu0Ue78AX99rk03&amp;tn=Hhb-95CV4ES-jaWh&amp;edm=APfKNqwBAAAA&amp;ccb=7-5&amp;oh=00_AfD5C45bFIb6ElvgkzxFrtIFlaZZOtxuAVQPHxkw4BIHvQ&amp;oe=63E8588D&amp;_nc_sid=74f7ba</BaseURL>\\n        <SegmentBase indexRange=\\\"792-847\\\" timescale=\\\"15360\\\" FBFirstSegmentRange=\\\"848-162056\\\" FBSecondSegmentRange=\\\"162057-275245\\\" FBPrefetchSegmentRange=\\\"848-275245\\\">\\n          <Initialization range=\\\"0-791\\\"/>\\n        </SegmentBase>\\n      </Representation>\\n    <Representation id=\\\"3556739651220654v\\\" bandwidth=\\\"366000\\\" codecs=\\\"vp09.00.31.08.01.01.01.01.00\\\" mimeType=\\\"video/mp4\\\" sar=\\\"1:1\\\" width=\\\"622\\\" height=\\\"1106\\\" FBQualityClass=\\\"sd\\\" FBQualityLabel=\\\"622w\\\" FBPlaybackResolutionMos=\\\"0:100.00,360:74.30,480:71.45,720:67.10\\\">\\n        <BaseURL urlExpiration=\\\"1676176853\\\">https://scontent-ams4-1.cdninstagram.com/v/t66.30100-16/322040953_703052904549817_4567410683243568587_n.mp4?_nc_ht=scontent-ams4-1.cdninstagram.com&amp;_nc_cat=101&amp;_nc_ohc=KKAI9t6M_hkAX_CwL0v&amp;tn=Hhb-95CV4ES-jaWh&amp;edm=APfKNqwBAAAA&amp;ccb=7-5&amp;oh=00_AfBZD8k2M1kNbqBHW3DWhGhnN5VLiQiWnU--I0iCoafMfg&amp;oe=63E86286&amp;_nc_sid=74f7ba</BaseURL>\\n        <SegmentBase indexRange=\\\"792-847\\\" timescale=\\\"15360\\\" FBFirstSegmentRange=\\\"848-237941\\\" FBSecondSegmentRange=\\\"237942-404125\\\" FBPrefetchSegmentRange=\\\"848-404125\\\">\\n          <Initialization range=\\\"0-791\\\"/>\\n        </SegmentBase>\\n      </Representation>\\n    <Representation id=\\\"484378633857818v\\\" bandwidth=\\\"553927\\\" codecs=\\\"vp09.00.31.08.01.01.01.01.00\\\" mimeType=\\\"video/mp4\\\" sar=\\\"1:1\\\" width=\\\"720\\\" height=\\\"1280\\\" FBQualityClass=\\\"hd\\\" FBQualityLabel=\\\"720w\\\" FBPlaybackResolutionMos=\\\"0:100.00,360:81.88,480:78.61,720:74.30\\\">\\n        <BaseURL urlExpiration=\\\"1676176853\\\">https://scontent-ams4-1.cdninstagram.com/v/t66.30100-16/318702028_1858983014445319_6697393989415096752_n.mp4?_nc_ht=scontent-ams4-1.cdninstagram.com&amp;_nc_cat=107&amp;_nc_ohc=t04hQcBpzVIAX_9gogU&amp;edm=APfKNqwBAAAA&amp;ccb=7-5&amp;oh=00_AfABCCoRNt59123zsO266gXLbzGdaJ3cTOnCvkGLw6B3Xg&amp;oe=63E86AB1&amp;_nc_sid=74f7ba</BaseURL>\\n        <SegmentBase indexRange=\\\"792-847\\\" timescale=\\\"15360\\\" FBFirstSegmentRange=\\\"848-361730\\\" FBSecondSegmentRange=\\\"361731-611627\\\" FBPrefetchSegmentRange=\\\"848-611627\\\">\\n          <Initialization range=\\\"0-791\\\"/>\\n        </SegmentBase>\\n      </Representation>\\n    <Representation id=\\\"543925944283887v\\\" bandwidth=\\\"854597\\\" codecs=\\\"vp09.00.31.08.01.01.01.01.00\\\" mimeType=\\\"video/mp4\\\" sar=\\\"1:1\\\" width=\\\"720\\\" height=\\\"1280\\\" FBQualityClass=\\\"hd\\\" FBQualityLabel=\\\"720w\\\" FBPlaybackResolutionMos=\\\"0:100.00,360:87.72,480:85.27,720:80.23\\\">\\n        <BaseURL urlExpiration=\\\"1676176853\\\">https://scontent-ams4-1.cdninstagram.com/v/t66.30100-16/121169988_720824805934078_2836055871293449560_n.mp4?_nc_ht=scontent-ams4-1.cdninstagram.com&amp;_nc_cat=110&amp;_nc_ohc=D3p6egFEGhEAX86Cmtj&amp;edm=APfKNqwBAAAA&amp;ccb=7-5&amp;oh=00_AfBfHvVXfi52ncSYVbO2XxmieN2ROCVwlGrqB5-wQQY9iA&amp;oe=63E7F56A&amp;_nc_sid=74f7ba</BaseURL>\\n        <SegmentBase indexRange=\\\"792-847\\\" timescale=\\\"15360\\\" FBFirstSegmentRange=\\\"848-561004\\\" FBSecondSegmentRange=\\\"561005-943617\\\" FBPrefetchSegmentRange=\\\"848-943617\\\">\\n          <Initialization range=\\\"0-791\\\"/>\\n        </SegmentBase>\\n      </Representation>\\n    </AdaptationSet>\\n  <AdaptationSet segmentAlignment=\\\"true\\\" lang=\\\"und\\\" subsegmentAlignment=\\\"true\\\" subsegmentStartsWithSAP=\\\"1\\\">\\n   <Representation id=\\\"3447578962152361ad\\\" mimeType=\\\"audio/mp4\\\" codecs=\\\"mp4a.40.5\\\" audioSamplingRate=\\\"44100\\\" startWithSAP=\\\"1\\\" bandwidth=\\\"91000\\\">\\n    <AudioChannelConfiguration schemeIdUri=\\\"urn:mpeg:dash:23003:3:audio_channel_configuration:2011\\\" value=\\\"2\\\"/>\\n    <BaseURL urlExpiration=\\\"1676176853\\\">https://scontent-ams4-1.cdninstagram.com/v/t66.30100-16/121249185_829728254981445_2134731984342363008_n.mp4?_nc_ht=scontent-ams4-1.cdninstagram.com&amp;_nc_cat=109&amp;_nc_ohc=XMAzRsgLA5IAX_2y_23&amp;edm=APfKNqwBAAAA&amp;ccb=7-5&amp;oh=00_AfAZUN0Kns3HyDx6VWOgnQOnO020DfvmLbMx5irAipvY7g&amp;oe=63E82FCD&amp;_nc_sid=74f7ba</BaseURL>\\n    <SegmentBase indexRangeExact=\\\"true\\\" indexRange=\\\"783-838\\\" FBFirstSegmentRange=\\\"839-51803\\\" FBSecondSegmentRange=\\\"51804-100896\\\" FBPrefetchSegmentRange=\\\"839-100896\\\">\\n      <Initialization range=\\\"0-782\\\"/>\\n    </SegmentBase>\\n   </Representation>\\n  </AdaptationSet>\\n </Period>\\n</MPD>\",\"video_codec\":\"vp09.00.31.08.01.01.01.01.00\",\"number_of_qualities\":6,\"video_versions\":[{\"type\":101,\"width\":720,\"height\":1280,\"url\":\"https://scontent-ams2-1.cdninstagram.com/o1/v/t16/f1/m82/C649EC3D3C89CCD8207EC552A49EBF9B_video_dashinit.mp4?efg=eyJxZV9ncm91cHMiOiJbXCJpZ193ZWJfZGVsaXZlcnlfdnRzX290ZlwiXSIsInZlbmNvZGVfdGFnIjoidnRzX3ZvZF91cmxnZW4uNzIwLmNsaXBzLmJhc2VsaW5lIn0&_nc_ht=scontent-ams2-1.cdninstagram.com&_nc_cat=108&vs=549247196839797_775853929&_nc_vs=HBksFQIYT2lnX3hwdl9yZWVsc19wZXJtYW5lbnRfcHJvZC9DNjQ5RUMzRDNDODlDQ0Q4MjA3RUM1NTJBNDlFQkY5Ql92aWRlb19kYXNoaW5pdC5tcDQVAALIAQAVABgkR0tFZE9nZEY5ZVVwb3ZJQ0FJQXJaUEZ0RjZBZGJwUjFBQUFGFQICyAEAKAAYABsAFQAAJtb3wZO9qOk%2FFQIoAkMzLBdAIap%2B%2Bdsi0RgSZGFzaF9iYXNlbGluZV8xX3YxEQB1%2FgcA&_nc_rid=e6603a096e&ccb=9-4&oh=00_AfAoPmZ5FG3YcfOBsVzWnRvq4j0T2xe64udghlDBwTzbeA&oe=63E8626E&_nc_sid=74f7ba\",\"id\":\"549247196839797v\"},{\"type\":102,\"width\":480,\"height\":854,\"url\":\"https://scontent-ams4-1.cdninstagram.com/o1/v/t16/f1/m82/A747EBA962F04228CA0DB4362A73D482_video_dashinit.mp4?efg=eyJxZV9ncm91cHMiOiJbXCJpZ193ZWJfZGVsaXZlcnlfdnRzX290ZlwiXSIsInZlbmNvZGVfdGFnIjoidnRzX3ZvZF91cmxnZW4uNDgwLmNsaXBzLmJhc2VsaW5lIn0&_nc_ht=scontent-ams4-1.cdninstagram.com&_nc_cat=107&vs=1874646462881671_4197839262&_nc_vs=HBksFQIYT2lnX3hwdl9yZWVsc19wZXJtYW5lbnRfcHJvZC9BNzQ3RUJBOTYyRjA0MjI4Q0EwREI0MzYyQTczRDQ4Ml92aWRlb19kYXNoaW5pdC5tcDQVAALIAQAVABgkR0tFZE9nZEY5ZVVwb3ZJQ0FJQXJaUEZ0RjZBZGJwUjFBQUFGFQICyAEAKAAYABsAFQAAJtb3wZO9qOk%2FFQIoAkMzLBdAIap%2B%2Bdsi0RgSZGFzaF9iYXNlbGluZV8yX3YxEQB1%2FgcA&_nc_rid=e6603a096e&ccb=9-4&oh=00_AfCOrweVDfE9ZB-7z0_569yFmWJY8JEHN2wyTAZVM_y_OQ&oe=63E81FC5&_nc_sid=74f7ba\",\"id\":\"1874646462881671v\"},{\"type\":103,\"width\":480,\"height\":854,\"url\":\"https://scontent-ams4-1.cdninstagram.com/o1/v/t16/f1/m82/A747EBA962F04228CA0DB4362A73D482_video_dashinit.mp4?efg=eyJxZV9ncm91cHMiOiJbXCJpZ193ZWJfZGVsaXZlcnlfdnRzX290ZlwiXSIsInZlbmNvZGVfdGFnIjoidnRzX3ZvZF91cmxnZW4uNDgwLmNsaXBzLmJhc2VsaW5lIn0&_nc_ht=scontent-ams4-1.cdninstagram.com&_nc_cat=107&vs=1874646462881671_4197839262&_nc_vs=HBksFQIYT2lnX3hwdl9yZWVsc19wZXJtYW5lbnRfcHJvZC9BNzQ3RUJBOTYyRjA0MjI4Q0EwREI0MzYyQTczRDQ4Ml92aWRlb19kYXNoaW5pdC5tcDQVAALIAQAVABgkR0tFZE9nZEY5ZVVwb3ZJQ0FJQXJaUEZ0RjZBZGJwUjFBQUFGFQICyAEAKAAYABsAFQAAJtb3wZO9qOk%2FFQIoAkMzLBdAIap%2B%2Bdsi0RgSZGFzaF9iYXNlbGluZV8yX3YxEQB1%2FgcA&_nc_rid=e6603a096e&ccb=9-4&oh=00_AfCOrweVDfE9ZB-7z0_569yFmWJY8JEHN2wyTAZVM_y_OQ&oe=63E81FC5&_nc_sid=74f7ba\",\"id\":\"1874646462881671v\"}],\"has_audio\":true,\"video_duration\":8.917,\"can_viewer_save\":true,\"is_in_profile_grid\":false,\"profile_grid_control_enabled\":false,\"view_count\":10314518,\"play_count\":12043928,\"organic_tracking_token\":\"eyJ2ZXJzaW9uIjo1LCJwYXlsb2FkIjp7ImlzX2FuYWx5dGljc190cmFja2VkIjp0cnVlLCJ1dWlkIjoiZTY2MDMyNDZhYzM4NDVlZjhmZmY1MjI4MDE1MDdhYWMzMDAxNTAzMDczMTYxNzcxOTE2Iiwic2VydmVyX3Rva2VuIjoiMTY3NjA0NzI1MzEzMnwzMDAxNTAzMDczMTYxNzcxOTE2fDUxNzUyMDA3MDgwfDYxNWVmOGE2OWJmMmQ5NWFhNDI2MjFlOWI0MDdkNjY2N2UwN2U3OTgzNjE1YmM0ZmU4NjBjZTlkZDAxOThiMGQifSwic2lnbmF0dXJlIjoiIn0=\",\"has_shared_to_fb\":0,\"product_type\":\"clips\",\"deleted_reason\":0,\"integrity_review_decision\":\"pending\",\"commerce_integrity_review_decision\":null,\"music_metadata\":null,\"is_artist_pick\":false,\"ig_media_sharing_disabled\":false,\"can_view_more_preview_comments\":false,\"inline_composer_display_condition\":\"impression_trigger\",\"comments\":[],\"hide_view_all_comment_entrypoint\":false,\"comment_count\":1178,\"clips_metadata\":{\"music_info\":null,\"original_sound_info\":{\"audio_asset_id\":777344363347765,\"music_canonical_id\":null,\"progressive_download_url\":\"https://scontent-ams4-1.xx.fbcdn.net/v/t39.12897-6/310920570_1568464836890092_7375339126931823372_n.m4a?_nc_cat=110&ccb=1-7&_nc_sid=02c1ff&_nc_ohc=JsYnbF-rvLgAX_YhMcc&_nc_ad=z-m&_nc_cid=0&_nc_ht=scontent-ams4-1.xx&oh=00_AfArT_lBr0GRAyIQ8pw3nn4a_YVDNohwciqHfk9BPj9kRA&oe=63EAD3A0\",\"duration_in_ms\":14860,\"dash_manifest\":\"<?xml version=\\\"1.0\\\" encoding=\\\"UTF-8\\\"?>\\n<!--Generated with https://github.com/google/shaka-packager version v1.6.0-release-->\\n<MPD xmlns=\\\"urn:mpeg:dash:schema:mpd:2011\\\" xmlns:xsi=\\\"http://www.w3.org/2001/XMLSchema-instance\\\" xmlns:xlink=\\\"http://www.w3.org/1999/xlink\\\" xmlns:cenc=\\\"urn:mpeg:cenc:2013\\\" xsi:schemaLocation=\\\"urn:mpeg:dash:schema:mpd:2011 DASH-MPD.xsd\\\" profiles=\\\"urn:mpeg:dash:profile:isoff-on-demand:2011\\\" minBufferTime=\\\"PT2S\\\" type=\\\"static\\\" mediaPresentationDuration=\\\"PT14.8593S\\\">\\n  <Period id=\\\"0\\\">\\n    <AdaptationSet id=\\\"0\\\" contentType=\\\"audio\\\" subsegmentAlignment=\\\"true\\\">\\n      <Representation id=\\\"0\\\" bandwidth=\\\"94659\\\" codecs=\\\"mp4a.40.2\\\" mimeType=\\\"audio/mp4\\\" audioSamplingRate=\\\"22050\\\">\\n        <AudioChannelConfiguration schemeIdUri=\\\"urn:mpeg:dash:23003:3:audio_channel_configuration:2011\\\" value=\\\"2\\\"/>\\n        <BaseURL>https://scontent-ams4-1.xx.fbcdn.net/v/t39.12897-6/310597942_482049173832649_982239818070489083_n.m4a?_nc_cat=102&amp;ccb=1-7&amp;_nc_sid=02c1ff&amp;_nc_ohc=TlKZlTkFOqUAX-1zxKh&amp;_nc_ad=z-m&amp;_nc_cid=0&amp;_nc_ht=scontent-ams4-1.xx&amp;oh=00_AfDFqw6xciOFJT1XSFY2VQcxreMcH_oumVyYR93WEXWkjg&amp;oe=63EB0664</BaseURL>\\n        <SegmentBase indexRange=\\\"743-870\\\" timescale=\\\"44100\\\">\\n          <Initialization range=\\\"0-742\\\"/>\\n        </SegmentBase>\\n      </Representation>\\n    </AdaptationSet>\\n  </Period>\\n</MPD>\\n\",\"ig_artist\":{\"pk\":50692806228,\"pk_id\":\"50692806228\",\"username\":\"mirza_abdullah000\",\"full_name\":\"\\u0645\\u0631\\u0632\\u0627 \\u0639\\u0628\\u062f\\u0627\\u0644\\u0644\\u06c1 \\ud83d\\udca5\",\"is_private\":false,\"is_verified\":false,\"profile_pic_id\":\"3029535692447657679_50692806228\",\"profile_pic_url\":\"https://scontent-ams2-1.cdninstagram.com/v/t51.2885-19/328316882_865289737972139_349207459609043768_n.jpg?stp=dst-jpg_s150x150&_nc_ht=scontent-ams2-1.cdninstagram.com&_nc_cat=1&_nc_ohc=nO3soo33-igAX_lnWBU&edm=APfKNqwBAAAA&ccb=7-5&oh=00_AfAhNmkLzrFHyJmHFVhtH1UCeXQ3IqgKa7KBtSWDuRDjOw&oe=63EC46F2&_nc_sid=74f7ba\"},\"should_mute_audio\":false,\"hide_remixing\":false,\"original_media_id\":2943928805880009371,\"time_created\":1665163710,\"original_audio_title\":\"NaInOwaLe  nE \\ud83d\\udc95\",\"consumption_info\":{\"is_bookmarked\":false,\"should_mute_audio_reason\":\"\",\"is_trending_in_clips\":false,\"should_mute_audio_reason_type\":null,\"display_media_id\":null},\"can_remix_be_shared_to_fb\":false,\"formatted_clips_media_count\":null,\"allow_creator_to_rename\":false,\"audio_parts\":[],\"is_explicit\":false,\"original_audio_subtype\":\"default\",\"is_audio_automatically_attributed\":false,\"is_reuse_disabled\":false,\"is_xpost_from_fb\":false,\"xpost_fb_creator_info\":null},\"audio_type\":\"original_sounds\",\"music_canonical_id\":\"18326730382015312\",\"featured_label\":null,\"mashup_info\":{\"mashups_allowed\":false,\"can_toggle_mashups_allowed\":false,\"has_been_mashed_up\":false,\"formatted_mashups_count\":null,\"original_media\":{\"pk\":2997471061286603471,\"user\":{\"has_anonymous_profile_picture\":false,\"pk\":1332864305,\"pk_id\":\"1332864305\",\"username\":\"filmygyan\",\"full_name\":\"F I L M Y G Y A N\",\"is_private\":false,\"is_verified\":true,\"profile_pic_id\":\"2785744014269112009_1332864305\",\"profile_pic_url\":\"https://scontent-ams2-1.cdninstagram.com/v/t51.2885-19/275171761_115439034405570_6708023719185011025_n.jpg?stp=dst-jpg_s150x150&_nc_ht=scontent-ams2-1.cdninstagram.com&_nc_cat=1&_nc_ohc=wKhy0sWEW5kAX8lUvSB&edm=APfKNqwBAAAA&ccb=7-5&oh=00_AfBWdgYZSaq9FA9MN-UlbXTo0cVZlRauct806j9ynV4bcA&oe=63EB32C1&_nc_sid=74f7ba\",\"account_badges\":[]},\"formatted_mashups_count\":null,\"product_type\":\"clips\",\"media_type\":\"VIDEO\",\"mashups_allowed\":true,\"privacy_filtered_mashups_media_count\":null,\"non_privacy_filtered_mashups_media_count\":761},\"privacy_filtered_mashups_media_count\":null,\"non_privacy_filtered_mashups_media_count\":null,\"mashup_type\":\"sequential\",\"is_creator_requesting_mashup\":false,\"has_nonmimicable_additional_audio\":false},\"nux_info\":null,\"viewer_interaction_settings\":null,\"branded_content_tag_info\":{\"can_add_tag\":false},\"shopping_info\":null,\"additional_audio_info\":{\"additional_audio_username\":null,\"audio_reattribution_info\":{\"should_allow_restore\":false}},\"is_shared_to_fb\":false,\"breaking_content_info\":null,\"challenge_info\":null,\"reels_on_the_rise_info\":null,\"breaking_creator_info\":null,\"asset_recommendation_info\":null,\"contextual_highlight_info\":null,\"clips_creation_entry_point\":\"clips\",\"audio_ranking_info\":{\"best_audio_cluster_id\":\"567986905057435\"},\"template_info\":null,\"is_fan_club_promo_video\":false,\"disable_use_in_clips_client_cache\":false,\"content_appreciation_info\":null,\"achievements_info\":{\"show_achievements\":false,\"num_earned_achievements\":null},\"show_achievements\":false,\"show_tips\":false,\"merchandising_pill_info\":null,\"is_public_chat_welcome_video\":false,\"professional_clips_upsell_type\":0},\"media_cropping_info\":{\"feed_preview_crop\":null,\"square_crop\":{\"crop_bottom\":0.74473065,\"crop_left\":0.0,\"crop_right\":1.0,\"crop_top\":0.18266979},\"three_by_four_preview_crop\":null}}],\"num_results\":1,\"more_available\":false,\"auto_load_more_enabled\":false,\"showQRModal\":false}\n"
          ]
        }
      ]
    },
    {
      "cell_type": "code",
      "source": [
        "def reel_audio():\n",
        "    a = re.search(r'\\b(progressive_download_url)\\b', dev_json)\n",
        "    start_index = a.start()\n",
        "    start_index = start_index + 3 + len('progressive_download_url')\n",
        "\n",
        "    b = re.search(r'\\b(duration_in_ms)\\b', dev_json)\n",
        "    end_index = b.start()\n",
        "    end_index = end_index - 3\n",
        "\n",
        "    audio_link = dev_json[start_index : end_index]\n",
        "    print('Audio Link : ', audio_link)"
      ],
      "metadata": {
        "id": "jRrzG7pdMPgf"
      },
      "execution_count": 12,
      "outputs": []
    },
    {
      "cell_type": "code",
      "source": [
        "reel_audio()"
      ],
      "metadata": {
        "colab": {
          "base_uri": "https://localhost:8080/"
        },
        "id": "e4KHttrxLp1e",
        "outputId": "7b853cd5-578b-49e3-a7b9-1cf415ca0e16"
      },
      "execution_count": 13,
      "outputs": [
        {
          "output_type": "stream",
          "name": "stdout",
          "text": [
            "Audio Link :  https://scontent-ams4-1.xx.fbcdn.net/v/t39.12897-6/310920570_1568464836890092_7375339126931823372_n.m4a?_nc_cat=110&ccb=1-7&_nc_sid=02c1ff&_nc_ohc=JsYnbF-rvLgAX_YhMcc&_nc_ad=z-m&_nc_cid=0&_nc_ht=scontent-ams4-1.xx&oh=00_AfArT_lBr0GRAyIQ8pw3nn4a_YVDNohwciqHfk9BPj9kRA&oe=63EAD3A0\n"
          ]
        }
      ]
    },
    {
      "cell_type": "code",
      "source": [
        "def reel_video():\n",
        "    a = re.search(r'\\b(-1.cdninstagram.com/o1/v/t16/f1/m82/)\\b', dev_json)\n",
        "    check_index = a.start()\n",
        "    start_index = check_index - 21\n",
        "\n",
        "    b = re.search(r'\\b(-1.cdninstagram.com/o1/v/t16/f1/m82/)\\b', dev_json[check_index:])\n",
        "    end_index = b.start()\n",
        "    end_index = end_index - 72\n",
        "    end_index += start_index\n",
        "\n",
        "    video_link = dev_json[start_index : end_index]\n",
        "    print('Video Link : ', video_link)"
      ],
      "metadata": {
        "id": "dr8Knm7zMTe2"
      },
      "execution_count": 14,
      "outputs": []
    },
    {
      "cell_type": "code",
      "source": [
        "reel_video()"
      ],
      "metadata": {
        "colab": {
          "base_uri": "https://localhost:8080/"
        },
        "id": "Q3gkC1MvMGIR",
        "outputId": "c15dc0c0-8f49-4ca7-8fee-cea663b4ac44"
      },
      "execution_count": 15,
      "outputs": [
        {
          "output_type": "stream",
          "name": "stdout",
          "text": [
            "Video Link :  https://scontent-ams2-1.cdninstagram.com/o1/v/t16/f1/m82/C649EC3D3C89CCD8207EC552A49EBF9B_video_dashinit.mp4?efg=eyJxZV9ncm91cHMiOiJbXCJpZ193ZWJfZGVsaXZlcnlfdnRzX290ZlwiXSIsInZlbmNvZGVfdGFnIjoidnRzX3ZvZF91cmxnZW4uNzIwLmNsaXBzLmJhc2VsaW5lIn0&_nc_ht=scontent-ams2-1.cdninstagram.com&_nc_cat=108&vs=549247196839797_775853929&_nc_vs=HBksFQIYT2lnX3hwdl9yZWVsc19wZXJtYW5lbnRfcHJvZC9DNjQ5RUMzRDNDODlDQ0Q4MjA3RUM1NTJBNDlFQkY5Ql92aWRlb19kYXNoaW5pdC5tcDQVAALIAQAVABgkR0tFZE9nZEY5ZVVwb3ZJQ0FJQXJaUEZ0RjZBZGJwUjFBQUFGFQICyAEAKAAYABsAFQAAJtb3wZO9qOk%2FFQIoAkMzLBdAIap%2B%2Bdsi0RgSZGFzaF9iYXNlbGluZV8xX3YxEQB1%2FgcA&_nc_rid=e6603a096e&ccb=9-4&oh=00_AfAoPmZ5FG3YcfOBsVzWnRvq4j0T2xe64udghlDBwTzbeA&oe=63E8626E&_nc_sid=74f7b\n"
          ]
        }
      ]
    },
    {
      "cell_type": "markdown",
      "source": [
        "# Final Code to download reels."
      ],
      "metadata": {
        "id": "nIlF7aZINPvu"
      }
    },
    {
      "cell_type": "code",
      "source": [
        "import re\n",
        "\n",
        "reel_id = input('Enter reel link :')\n",
        "reel_id = list(reel_id.split('/'))\n",
        "\n",
        "if len(reel_id[4]) == 11:\n",
        "    reel_id = reel_id[4]\n",
        "elif len(reel_id[5]) == 11:\n",
        "    reel_id = reel_id[5]\n",
        "else:\n",
        "    reel_id = 'CoT1MflIGJg' # default value if error.\n",
        "\n",
        "link = f'https://www.instagram.com/reel/{reel_id}/'\n",
        "dev_link = link + '?__a=1&__d=dis'\n",
        "print('\\nClick below link ...')\n",
        "print(dev_link)\n",
        "\n",
        "dev_json = input('''\n",
        "\n",
        "1. Click above link\n",
        "2. Copy site content\n",
        "3. Paste below.\n",
        "\n",
        "''')\n",
        "\n",
        "def reel_audio():\n",
        "    a = re.search(r'\\b(progressive_download_url)\\b', dev_json)\n",
        "    start_index = a.start()\n",
        "    start_index = start_index + 3 + len('progressive_download_url')\n",
        "\n",
        "    b = re.search(r'\\b(duration_in_ms)\\b', dev_json)\n",
        "    end_index = b.start()\n",
        "    end_index = end_index - 3\n",
        "\n",
        "    audio_link = dev_json[start_index : end_index]\n",
        "    print('Audio Link : ', audio_link)\n",
        "    \n",
        "def reel_video():\n",
        "    a = re.search(r'\\b(-1.cdninstagram.com/o1/v/t16/f1/m82/)\\b', dev_json)\n",
        "    check_index = a.start()\n",
        "    start_index = check_index - 21\n",
        "\n",
        "    b = re.search(r'\\b(-1.cdninstagram.com/o1/v/t16/f1/m82/)\\b', dev_json[check_index:])\n",
        "    end_index = b.start()\n",
        "    end_index = end_index - 72\n",
        "    end_index += start_index\n",
        "\n",
        "    video_link = dev_json[start_index : end_index]\n",
        "    print('Video Link : ', video_link)\n",
        "\n",
        "reel_audio()\n",
        "print()\n",
        "reel_video()"
      ],
      "metadata": {
        "colab": {
          "base_uri": "https://localhost:8080/"
        },
        "id": "teEeUWFTNQnK",
        "outputId": "c7204afe-4d06-49e5-e07a-eeb21cfe9458"
      },
      "execution_count": 16,
      "outputs": [
        {
          "output_type": "stream",
          "name": "stdout",
          "text": [
            "Enter reel link :https://www.instagram.com/reel/CmtXx7ohxon/?utm_source=ig_web_button_share_sheet\n",
            "\n",
            "Click below link ...\n",
            "https://www.instagram.com/reel/CmtXx7ohxon/?__a=1&__d=dis\n",
            "\n",
            "\n",
            "1. Click above link\n",
            "2. Copy site content\n",
            "3. Paste below.\n",
            "\n",
            "{\"items\":[{\"taken_at\":1672224834,\"pk\":3003161112880814631,\"id\":\"3003161112880814631_52373461498\",\"device_timestamp\":4346089208393,\"media_type\":2,\"code\":\"CmtXx7ohxon\",\"client_cache_key\":\"MzAwMzE2MTExMjg4MDgxNDYzMQ==.2\",\"filter_type\":0,\"is_unified_video\":false,\"should_request_ads\":false,\"original_media_has_visual_reply_media\":false,\"caption_is_edited\":true,\"like_and_view_counts_disabled\":false,\"commerciality_status\":\"not_commercial\",\"is_paid_partnership\":false,\"is_visual_reply_commenter_notice_enabled\":true,\"timeline_pinned_user_ids\":[52373461498],\"clips_tab_pinned_user_ids\":[],\"has_delayed_metadata\":false,\"comment_likes_enabled\":true,\"comment_threading_enabled\":true,\"max_num_visible_preview_comments\":2,\"has_more_comments\":true,\"preview_comments\":[],\"photo_of_you\":false,\"is_organic_product_tagging_eligible\":false,\"can_see_insights_as_brand\":false,\"user\":{\"has_anonymous_profile_picture\":false,\"show_account_transparency_details\":true,\"fan_club_info\":{\"fan_club_id\":null,\"fan_club_name\":null,\"is_fan_club_referral_eligible\":null,\"fan_consideration_page_revamp_eligiblity\":null,\"is_fan_club_gifting_eligible\":null},\"transparency_product_enabled\":false,\"latest_reel_media\":1676045155,\"is_favorite\":false,\"is_unpublished\":false,\"pk\":52373461498,\"pk_id\":\"52373461498\",\"username\":\"sarcastic_santosh_mahto\",\"full_name\":\"Santosh Mahto\",\"is_private\":false,\"is_verified\":false,\"friendship_status\":{\"following\":false,\"outgoing_request\":false,\"is_bestie\":false,\"is_restricted\":false,\"is_feed_favorite\":false},\"profile_pic_id\":\"3005567378177724501_52373461498\",\"profile_pic_url\":\"https://scontent-ams2-1.cdninstagram.com/v/t51.2885-19/323311242_1546730839073966_386061680374159606_n.jpg?stp=dst-jpg_s150x150&_nc_ht=scontent-ams2-1.cdninstagram.com&_nc_cat=1&_nc_ohc=5Fai9gf0WnsAX_G9e9D&edm=APfKNqwBAAAA&ccb=7-5&oh=00_AfDqwM2blzsTJB9-YTyD00AvbUp646eD7Hr6JFPuRcZsHQ&oe=63EBA7DD&_nc_sid=74f7ba\",\"account_badges\":[]},\"can_viewer_reshare\":true,\"like_count\":171167,\"fb_like_count\":27041,\"has_liked\":false,\"top_likers\":[],\"facepile_top_likers\":[],\"image_versions2\":{\"candidates\":[{\"width\":1080,\"height\":1646,\"url\":\"https://scontent-ams4-1.cdninstagram.com/v/t51.2885-15/321876448_103189155964905_1664922607991926210_n.jpg?stp=dst-jpg_e15&_nc_ht=scontent-ams4-1.cdninstagram.com&_nc_cat=109&_nc_ohc=1g57pJkeDPUAX-uh6rg&edm=APfKNqwBAAAA&ccb=7-5&ig_cache_key=MzAwMzE2MTExMjg4MDgxNDYzMQ%3D%3D.2-ccb7-5&oh=00_AfARvjI_djY4WPjv-tGvzx_7JT6VQP9rwPtBjJlKUlP4_Q&oe=63EBF8C8&_nc_sid=74f7ba\"},{\"width\":720,\"height\":1097,\"url\":\"https://scontent-ams4-1.cdninstagram.com/v/t51.2885-15/321876448_103189155964905_1664922607991926210_n.jpg?stp=dst-jpg_e35_p720x720_sh0.08&_nc_ht=scontent-ams4-1.cdninstagram.com&_nc_cat=109&_nc_ohc=1g57pJkeDPUAX-uh6rg&edm=APfKNqwBAAAA&ccb=7-5&ig_cache_key=MzAwMzE2MTExMjg4MDgxNDYzMQ%3D%3D.2-ccb7-5&oh=00_AfABD8AcnnEGxfauMqw9zHfW-ZLz-9ECPcaw1hQT76xyaQ&oe=63EBF8C8&_nc_sid=74f7ba\"},{\"width\":640,\"height\":975,\"url\":\"https://scontent-ams4-1.cdninstagram.com/v/t51.2885-15/321876448_103189155964905_1664922607991926210_n.jpg?stp=dst-jpg_e35_p640x640_sh0.08&_nc_ht=scontent-ams4-1.cdninstagram.com&_nc_cat=109&_nc_ohc=1g57pJkeDPUAX-uh6rg&edm=APfKNqwBAAAA&ccb=7-5&ig_cache_key=MzAwMzE2MTExMjg4MDgxNDYzMQ%3D%3D.2-ccb7-5&oh=00_AfCuT5Kp-qzyuhD--SBoVmrKSfLdTK4disZJOlU0LkD4zQ&oe=63EBF8C8&_nc_sid=74f7ba\"},{\"width\":480,\"height\":732,\"url\":\"https://scontent-ams4-1.cdninstagram.com/v/t51.2885-15/321876448_103189155964905_1664922607991926210_n.jpg?stp=dst-jpg_e15_p480x480&_nc_ht=scontent-ams4-1.cdninstagram.com&_nc_cat=109&_nc_ohc=1g57pJkeDPUAX-uh6rg&edm=APfKNqwBAAAA&ccb=7-5&ig_cache_key=MzAwMzE2MTExMjg4MDgxNDYzMQ%3D%3D.2-ccb7-5&oh=00_AfBuFPkYJNg9tpargLif4QzvFceFtrU_j7oxzrGF3m-vvA&oe=63EBF8C8&_nc_sid=74f7ba\"},{\"width\":320,\"height\":488,\"url\":\"https://scontent-ams4-1.cdninstagram.com/v/t51.2885-15/321876448_103189155964905_1664922607991926210_n.jpg?stp=dst-jpg_e15_p320x320&_nc_ht=scontent-ams4-1.cdninstagram.com&_nc_cat=109&_nc_ohc=1g57pJkeDPUAX-uh6rg&edm=APfKNqwBAAAA&ccb=7-5&ig_cache_key=MzAwMzE2MTExMjg4MDgxNDYzMQ%3D%3D.2-ccb7-5&oh=00_AfCsv4MdWyiGG57cZ37_a1OZEoTmoxBOA2fO2fY6Iin7lA&oe=63EBF8C8&_nc_sid=74f7ba\"},{\"width\":240,\"height\":366,\"url\":\"https://scontent-ams4-1.cdninstagram.com/v/t51.2885-15/321876448_103189155964905_1664922607991926210_n.jpg?stp=dst-jpg_e15_p240x240&_nc_ht=scontent-ams4-1.cdninstagram.com&_nc_cat=109&_nc_ohc=1g57pJkeDPUAX-uh6rg&edm=APfKNqwBAAAA&ccb=7-5&ig_cache_key=MzAwMzE2MTExMjg4MDgxNDYzMQ%3D%3D.2-ccb7-5&oh=00_AfCx-1nHNjNUGdpIXAFB1x4bIPiGu_DAtZeJEwc5nCByFg&oe=63EBF8C8&_nc_sid=74f7ba\"},{\"width\":1080,\"height\":1080,\"url\":\"https://scontent-ams4-1.cdninstagram.com/v/t51.2885-15/321876448_103189155964905_1664922607991926210_n.jpg?stp=c0.283.1080.1080a_dst-jpg_e15_fr_s1080x1080&_nc_ht=scontent-ams4-1.cdninstagram.com&_nc_cat=109&_nc_ohc=1g57pJkeDPUAX-uh6rg&edm=APfKNqwBAAAA&ccb=7-5&ig_cache_key=MzAwMzE2MTExMjg4MDgxNDYzMQ%3D%3D.2-ccb7-5&oh=00_AfCf-3bGWhF6IfwaBKMYUj4mGuZ52Foi6D5hksBaZq-Qww&oe=63EBF8C8&_nc_sid=74f7ba\"},{\"width\":750,\"height\":750,\"url\":\"https://scontent-ams4-1.cdninstagram.com/v/t51.2885-15/321876448_103189155964905_1664922607991926210_n.jpg?stp=c0.283.1080.1080a_dst-jpg_e35_s750x750_sh0.08&_nc_ht=scontent-ams4-1.cdninstagram.com&_nc_cat=109&_nc_ohc=1g57pJkeDPUAX-uh6rg&edm=APfKNqwBAAAA&ccb=7-5&ig_cache_key=MzAwMzE2MTExMjg4MDgxNDYzMQ%3D%3D.2-ccb7-5&oh=00_AfDFrZqprjduIZtKpCkYAnmrdKKlSu1waulp90Xj9zLJew&oe=63EBF8C8&_nc_sid=74f7ba\"},{\"width\":640,\"height\":640,\"url\":\"https://scontent-ams4-1.cdninstagram.com/v/t51.2885-15/321876448_103189155964905_1664922607991926210_n.jpg?stp=c0.283.1080.1080a_dst-jpg_e35_s640x640_sh0.08&_nc_ht=scontent-ams4-1.cdninstagram.com&_nc_cat=109&_nc_ohc=1g57pJkeDPUAX-uh6rg&edm=APfKNqwBAAAA&ccb=7-5&ig_cache_key=MzAwMzE2MTExMjg4MDgxNDYzMQ%3D%3D.2-ccb7-5&oh=00_AfADuknv9HtlAMMhN5WQ0yrSs8Gw6QqeJBT7BTokdQ3cEQ&oe=63EBF8C8&_nc_sid=74f7ba\"},{\"width\":480,\"height\":480,\"url\":\"https://scontent-ams4-1.cdninstagram.com/v/t51.2885-15/321876448_103189155964905_1664922607991926210_n.jpg?stp=c0.283.1080.1080a_dst-jpg_e15_s480x480&_nc_ht=scontent-ams4-1.cdninstagram.com&_nc_cat=109&_nc_ohc=1g57pJkeDPUAX-uh6rg&edm=APfKNqwBAAAA&ccb=7-5&ig_cache_key=MzAwMzE2MTExMjg4MDgxNDYzMQ%3D%3D.2-ccb7-5&oh=00_AfBxA7IQkhjYymUa6MBtW2EVHeLO5dDEH30me4gMZfP4YA&oe=63EBF8C8&_nc_sid=74f7ba\"},{\"width\":320,\"height\":320,\"url\":\"https://scontent-ams4-1.cdninstagram.com/v/t51.2885-15/321876448_103189155964905_1664922607991926210_n.jpg?stp=c0.283.1080.1080a_dst-jpg_e15_s320x320&_nc_ht=scontent-ams4-1.cdninstagram.com&_nc_cat=109&_nc_ohc=1g57pJkeDPUAX-uh6rg&edm=APfKNqwBAAAA&ccb=7-5&ig_cache_key=MzAwMzE2MTExMjg4MDgxNDYzMQ%3D%3D.2-ccb7-5&oh=00_AfAuUiE0Oyunbf1MoO0qdzblJnauNIxnG9KYPu2jeh4mUA&oe=63EBF8C8&_nc_sid=74f7ba\"},{\"width\":240,\"height\":240,\"url\":\"https://scontent-ams4-1.cdninstagram.com/v/t51.2885-15/321876448_103189155964905_1664922607991926210_n.jpg?stp=c0.283.1080.1080a_dst-jpg_e15_s240x240&_nc_ht=scontent-ams4-1.cdninstagram.com&_nc_cat=109&_nc_ohc=1g57pJkeDPUAX-uh6rg&edm=APfKNqwBAAAA&ccb=7-5&ig_cache_key=MzAwMzE2MTExMjg4MDgxNDYzMQ%3D%3D.2-ccb7-5&oh=00_AfAbVv0RPhs_gW1ECM-dq1V62aseyJUnAaF4vZaBDpJQ9A&oe=63EBF8C8&_nc_sid=74f7ba\"},{\"width\":150,\"height\":150,\"url\":\"https://scontent-ams4-1.cdninstagram.com/v/t51.2885-15/321876448_103189155964905_1664922607991926210_n.jpg?stp=c0.283.1080.1080a_dst-jpg_e15_s150x150&_nc_ht=scontent-ams4-1.cdninstagram.com&_nc_cat=109&_nc_ohc=1g57pJkeDPUAX-uh6rg&edm=APfKNqwBAAAA&ccb=7-5&ig_cache_key=MzAwMzE2MTExMjg4MDgxNDYzMQ%3D%3D.2-ccb7-5&oh=00_AfDYvd_3v-w-3IY3AvITxUwmmj8_OhDSJOcTx0ikChskBQ&oe=63EBF8C8&_nc_sid=74f7ba\"}],\"additional_candidates\":{\"igtv_first_frame\":{\"width\":640,\"height\":1136,\"url\":\"https://scontent-ams2-1.cdninstagram.com/v/t51.2885-15/321855465_909267660444976_4881289554050496026_n.jpg?stp=dst-jpg_e15&_nc_ht=scontent-ams2-1.cdninstagram.com&_nc_cat=104&_nc_ohc=vieju-ivi-IAX_1BJ72&edm=APfKNqwBAAAA&ccb=7-5&oh=00_AfBDxJSRj3p5n4DaK_PLdVUfHGRPBFStJd_4jr6IncKC2w&oe=63EC167A&_nc_sid=74f7ba\"},\"first_frame\":{\"width\":640,\"height\":1136,\"url\":\"https://scontent-ams2-1.cdninstagram.com/v/t51.2885-15/321855465_909267660444976_4881289554050496026_n.jpg?stp=dst-jpg_e15&_nc_ht=scontent-ams2-1.cdninstagram.com&_nc_cat=104&_nc_ohc=vieju-ivi-IAX_1BJ72&edm=APfKNqwBAAAA&ccb=7-5&oh=00_AfBDxJSRj3p5n4DaK_PLdVUfHGRPBFStJd_4jr6IncKC2w&oe=63EC167A&_nc_sid=74f7ba\"},\"smart_frame\":null},\"smart_thumbnail_enabled\":false},\"original_width\":1080,\"original_height\":1920,\"caption\":{\"pk\":17988516013721928,\"user_id\":52373461498,\"text\":\"Buddhi bahut tez h tumhari \\ud83d\\ude0a\\n\\nThanks for 8 millions \\u2763\\ufe0f\\n\\nIf you're in depression then follow me\",\"type\":1,\"created_at\":1676008819,\"created_at_utc\":1676008819,\"content_type\":\"comment\",\"status\":\"Active\",\"bit_flags\":0,\"did_report_as_spam\":false,\"share_enabled\":false,\"user\":{\"pk\":52373461498,\"pk_id\":\"52373461498\",\"username\":\"sarcastic_santosh_mahto\",\"full_name\":\"Santosh Mahto\",\"is_private\":false,\"is_verified\":false,\"profile_pic_id\":\"3005567378177724501_52373461498\",\"profile_pic_url\":\"https://scontent-ams2-1.cdninstagram.com/v/t51.2885-19/323311242_1546730839073966_386061680374159606_n.jpg?stp=dst-jpg_s150x150&_nc_ht=scontent-ams2-1.cdninstagram.com&_nc_cat=1&_nc_ohc=5Fai9gf0WnsAX_G9e9D&edm=APfKNqwBAAAA&ccb=7-5&oh=00_AfDqwM2blzsTJB9-YTyD00AvbUp646eD7Hr6JFPuRcZsHQ&oe=63EBA7DD&_nc_sid=74f7ba\",\"fbid_v2\":17841452484946682},\"is_covered\":false,\"is_ranked_comment\":false,\"media_id\":3003161112880814631,\"private_reply_status\":0},\"comment_inform_treatment\":{\"should_have_inform_treatment\":false,\"text\":\"\",\"url\":null,\"action_type\":null},\"sharing_friction_info\":{\"should_have_sharing_friction\":false,\"bloks_app_url\":null,\"sharing_friction_payload\":null},\"is_dash_eligible\":1,\"video_dash_manifest\":\"<MPD xmlns=\\\"urn:mpeg:dash:schema:mpd:2011\\\" xmlns:xsi=\\\"http://www.w3.org/2001/XMLSchema-instance\\\" xsi:schemaLocation=\\\"urn:mpeg:dash:schema:mpd:2011 DASH-MPD.xsd\\\" profiles=\\\"urn:mpeg:dash:profile:isoff-on-demand:2011\\\" minBufferTime=\\\"PT2S\\\" type=\\\"static\\\" mediaPresentationDuration=\\\"PT0H0M14.675S\\\" maxSegmentDuration=\\\"PT0H0M5.016S\\\">\\n  <Period id=\\\"0\\\" duration=\\\"PT0H0M14.675S\\\">\\n    <AdaptationSet id=\\\"0\\\" contentType=\\\"video\\\" width=\\\"1080\\\" height=\\\"1920\\\" frameRate=\\\"15360/512\\\" subsegmentAlignment=\\\"true\\\" par=\\\"9:16\\\" FBUnifiedUploadResolutionMos=\\\"360:74.89\\\">\\n      <Representation id=\\\"561812812474225vd\\\" bandwidth=\\\"980298\\\" codecs=\\\"vp09.00.40.08.00.05.01.06.00\\\" mimeType=\\\"video/mp4\\\" sar=\\\"1:1\\\" width=\\\"1080\\\" height=\\\"1920\\\" FBQualityClass=\\\"hd\\\" FBQualityLabel=\\\"1080w\\\" FBPlaybackResolutionMos=\\\"0:100.00,360:97.31,480:96.64,720:95.60,1080:94.15\\\">\\n        <BaseURL urlExpiration=\\\"1676177079\\\">https://scontent-ams4-1.cdninstagram.com/v/t66.30100-16/320613967_1262115951179167_977341455155839615_n.mp4?_nc_ht=scontent-ams4-1.cdninstagram.com&amp;_nc_cat=107&amp;_nc_ohc=pRy4el6IhDEAX9kYvH0&amp;edm=APfKNqwBAAAA&amp;ccb=7-5&amp;oh=00_AfBsM7YX3bjUas-oi7XRQ3TfdSiCoVxo_dPjfkmng3r0UA&amp;oe=63E8296A&amp;_nc_sid=74f7ba</BaseURL>\\n        <SegmentBase indexRange=\\\"792-859\\\" timescale=\\\"15360\\\" FBFirstSegmentRange=\\\"860-699045\\\" FBSecondSegmentRange=\\\"699046-1267518\\\" FBPrefetchSegmentRange=\\\"860-1267518\\\">\\n          <Initialization range=\\\"0-791\\\"/>\\n        </SegmentBase>\\n      </Representation>\\n    <Representation id=\\\"558582196124410v\\\" bandwidth=\\\"136802\\\" codecs=\\\"vp09.00.31.08.00.05.01.06.00\\\" mimeType=\\\"video/mp4\\\" sar=\\\"1:1\\\" width=\\\"574\\\" height=\\\"1020\\\" FBQualityClass=\\\"sd\\\" FBQualityLabel=\\\"574w\\\" FBPlaybackResolutionMos=\\\"0:100.00,360:79.85,480:77.20,720:75.30,1080:72.40\\\">\\n        <BaseURL urlExpiration=\\\"1676177079\\\">https://scontent-ams2-1.cdninstagram.com/v/t66.30100-16/167330349_902490427424322_4505617561587165985_n.mp4?_nc_ht=scontent-ams2-1.cdninstagram.com&amp;_nc_cat=106&amp;_nc_ohc=7tW7tbUUi2wAX8_uXPp&amp;edm=APfKNqwBAAAA&amp;ccb=7-5&amp;oh=00_AfCoajSa9Gwd-Ho8KD7StJjej6oxC0W3Etc3-eKq91n5lw&amp;oe=63E7E682&amp;_nc_sid=74f7ba</BaseURL>\\n        <SegmentBase indexRange=\\\"792-859\\\" timescale=\\\"15360\\\" FBFirstSegmentRange=\\\"860-96225\\\" FBSecondSegmentRange=\\\"96226-173839\\\" FBPrefetchSegmentRange=\\\"860-173839\\\">\\n          <Initialization range=\\\"0-791\\\"/>\\n        </SegmentBase>\\n      </Representation>\\n    <Representation id=\\\"1332039210890928v\\\" bandwidth=\\\"255928\\\" codecs=\\\"vp09.00.31.08.00.05.01.06.00\\\" mimeType=\\\"video/mp4\\\" sar=\\\"1:1\\\" width=\\\"720\\\" height=\\\"1280\\\" FBQualityClass=\\\"hd\\\" FBQualityLabel=\\\"720w\\\" FBPlaybackResolutionMos=\\\"0:100.00,360:89.79,480:87.97,720:81.61,1080:80.52\\\">\\n        <BaseURL urlExpiration=\\\"1676177079\\\">https://scontent-ams4-1.cdninstagram.com/v/t66.30100-16/164052668_2068037503388923_5930540312812725618_n.mp4?_nc_ht=scontent-ams4-1.cdninstagram.com&amp;_nc_cat=107&amp;_nc_ohc=nhXPOvAs9nYAX8dPaV_&amp;edm=APfKNqwBAAAA&amp;ccb=7-5&amp;oh=00_AfCOagBWyjXvZp6ZMKMdGhZZ9Rg-9vCrnabDd1RGWtI-nw&amp;oe=63E7EFD8&amp;_nc_sid=74f7ba</BaseURL>\\n        <SegmentBase indexRange=\\\"792-859\\\" timescale=\\\"15360\\\" FBFirstSegmentRange=\\\"860-179996\\\" FBSecondSegmentRange=\\\"179997-328319\\\" FBPrefetchSegmentRange=\\\"860-328319\\\">\\n          <Initialization range=\\\"0-791\\\"/>\\n        </SegmentBase>\\n      </Representation>\\n    <Representation id=\\\"489680369952677v\\\" bandwidth=\\\"414291\\\" codecs=\\\"vp09.00.31.08.00.05.01.06.00\\\" mimeType=\\\"video/mp4\\\" sar=\\\"1:1\\\" width=\\\"720\\\" height=\\\"1280\\\" FBQualityClass=\\\"hd\\\" FBQualityLabel=\\\"720w\\\" FBPlaybackResolutionMos=\\\"0:100.00,360:94.03,480:92.85,720:86.36,1080:84.65\\\">\\n        <BaseURL urlExpiration=\\\"1676177079\\\">https://scontent-ams2-1.cdninstagram.com/v/t66.30100-16/121364238_2155070331504364_460367769323067381_n.mp4?_nc_ht=scontent-ams2-1.cdninstagram.com&amp;_nc_cat=104&amp;_nc_ohc=0iLY5CFgrd8AX8EQuSX&amp;edm=APfKNqwBAAAA&amp;ccb=7-5&amp;oh=00_AfCsHu-yzgNops--PP9epv5JgZeXEh2B7B_XoPt2LUc-JA&amp;oe=63E7D0AE&amp;_nc_sid=74f7ba</BaseURL>\\n        <SegmentBase indexRange=\\\"792-859\\\" timescale=\\\"15360\\\" FBFirstSegmentRange=\\\"860-293004\\\" FBSecondSegmentRange=\\\"293005-529635\\\" FBPrefetchSegmentRange=\\\"860-529635\\\">\\n          <Initialization range=\\\"0-791\\\"/>\\n        </SegmentBase>\\n      </Representation>\\n    <Representation id=\\\"1065814568154134v\\\" bandwidth=\\\"628539\\\" codecs=\\\"vp09.00.31.08.00.05.01.06.00\\\" mimeType=\\\"video/mp4\\\" sar=\\\"1:1\\\" width=\\\"720\\\" height=\\\"1280\\\" FBQualityClass=\\\"hd\\\" FBQualityLabel=\\\"720w\\\" FBPlaybackResolutionMos=\\\"0:100.00,360:95.91,480:95.10,720:88.67,1080:86.76\\\">\\n        <BaseURL urlExpiration=\\\"1676177079\\\">https://scontent-ams4-1.cdninstagram.com/v/t66.30100-16/317307157_560531758889391_7202669386595285651_n.mp4?_nc_ht=scontent-ams4-1.cdninstagram.com&amp;_nc_cat=103&amp;_nc_ohc=BL1YlU5X-QYAX9xu-sq&amp;edm=APfKNqwBAAAA&amp;ccb=7-5&amp;oh=00_AfDv8aw9ccpTIr5OhTAJrqLdDpBjebMaOzPCV85G6R7r6Q&amp;oe=63E7E7D5&amp;_nc_sid=74f7ba</BaseURL>\\n        <SegmentBase indexRange=\\\"792-859\\\" timescale=\\\"15360\\\" FBFirstSegmentRange=\\\"860-446219\\\" FBSecondSegmentRange=\\\"446220-806245\\\" FBPrefetchSegmentRange=\\\"860-806245\\\">\\n          <Initialization range=\\\"0-791\\\"/>\\n        </SegmentBase>\\n      </Representation>\\n    </AdaptationSet>\\n  <AdaptationSet segmentAlignment=\\\"true\\\" lang=\\\"und\\\" subsegmentAlignment=\\\"true\\\" subsegmentStartsWithSAP=\\\"1\\\">\\n   <Representation id=\\\"525972899565540ad\\\" mimeType=\\\"audio/mp4\\\" codecs=\\\"mp4a.40.5\\\" audioSamplingRate=\\\"44100\\\" startWithSAP=\\\"1\\\" bandwidth=\\\"59806\\\">\\n    <AudioChannelConfiguration schemeIdUri=\\\"urn:mpeg:dash:23003:3:audio_channel_configuration:2011\\\" value=\\\"2\\\"/>\\n    <BaseURL urlExpiration=\\\"1676177079\\\">https://scontent-ams2-1.cdninstagram.com/v/t66.30100-16/163349952_1631349217323724_8487050696046486280_n.mp4?_nc_ht=scontent-ams2-1.cdninstagram.com&amp;_nc_cat=104&amp;_nc_ohc=JwTDQIyNqyUAX9qu4Ye&amp;edm=APfKNqwBAAAA&amp;ccb=7-5&amp;oh=00_AfBMjC97b2292udFaLHgUnyzN_qWU7R5vQpTHA1ddr51Sw&amp;oe=63E7E1AE&amp;_nc_sid=74f7ba</BaseURL>\\n    <SegmentBase indexRangeExact=\\\"true\\\" indexRange=\\\"783-850\\\" FBFirstSegmentRange=\\\"851-36141\\\" FBSecondSegmentRange=\\\"36142-73741\\\" FBPrefetchSegmentRange=\\\"851-73741\\\">\\n      <Initialization range=\\\"0-782\\\"/>\\n    </SegmentBase>\\n   </Representation>\\n  </AdaptationSet>\\n </Period>\\n</MPD>\",\"video_codec\":\"vp09.00.40.08.00.05.01.06.00\",\"number_of_qualities\":5,\"video_versions\":[{\"type\":101,\"width\":1080,\"height\":1920,\"url\":\"https://scontent-ams4-1.cdninstagram.com/v/t66.30100-16/321748538_1338965969977045_6983706122721991676_n.mp4?efg=eyJ2ZW5jb2RlX3RhZyI6InZ0c192b2RfdXJsZ2VuLjEwODAuY2xpcHMuaGlnaCIsInFlX2dyb3VwcyI6IltcImlnX3dlYl9kZWxpdmVyeV92dHNfb3RmXCJdIn0&_nc_ht=scontent-ams4-1.cdninstagram.com&_nc_cat=101&_nc_ohc=Ot_N3EJRwwkAX-n1now&edm=APfKNqwBAAAA&vs=394089246243931_471601629&_nc_vs=HBksFQAYJEdEcF9MUlBWdmdGUHlNRUVBUHlia0tTM0dfdGdicFIxQUFBRhUAAsgBABUAGCRHTUNGdkFuTWFwb1d0TXNGQUFnamxVaWtEOGgxYnBSMUFBQUYVAgLIAQAoABgAGwAVAAAm5rPeiaKE6EAVAigCQzMsF0AtMzMzMzMzGBJkYXNoX2hpZ2hfMTA4MHBfdjERAHX%2BBwA%3D&_nc_rid=05480f75fa&ccb=7-5&oh=00_AfBtVjEX6IGAn_CsADLuwjzL6550nW2nucLQlzLEU-5SKQ&oe=63E800A1&_nc_sid=74f7ba\",\"id\":\"394089246243931v\"},{\"type\":102,\"width\":720,\"height\":1280,\"url\":\"https://scontent-ams2-1.cdninstagram.com/o1/v/t16/f1/m82/81407338B172572C20EF3800EB618CA2_video_dashinit.mp4?efg=eyJxZV9ncm91cHMiOiJbXCJpZ193ZWJfZGVsaXZlcnlfdnRzX290ZlwiXSIsInZlbmNvZGVfdGFnIjoidnRzX3ZvZF91cmxnZW4uNzIwLmNsaXBzLmJhc2VsaW5lIn0&_nc_ht=scontent-ams2-1.cdninstagram.com&_nc_cat=104&vs=5718904194868458_3914522413&_nc_vs=HBksFQIYT2lnX3hwdl9yZWVsc19wZXJtYW5lbnRfcHJvZC84MTQwNzMzOEIxNzI1NzJDMjBFRjM4MDBFQjYxOENBMl92aWRlb19kYXNoaW5pdC5tcDQVAALIAQAVABgkR01DRnZBbk1hcG9XdE1zRkFBZ2psVWlrRDhoMWJwUjFBQUFGFQICyAEAKAAYABsAFQAAJuaz3omihOhAFQIoAkMzLBdALTMzMzMzMxgSZGFzaF9iYXNlbGluZV8xX3YxEQB1%2FgcA&_nc_rid=05480f75fa&ccb=9-4&oh=00_AfC_Ezj0DNCt20ub1v-w_PzWd5tEJIwF75f2hPON6jwimQ&oe=63E7EB96&_nc_sid=74f7ba\",\"id\":\"5718904194868458v\"},{\"type\":103,\"width\":720,\"height\":1280,\"url\":\"https://scontent-ams2-1.cdninstagram.com/o1/v/t16/f1/m82/81407338B172572C20EF3800EB618CA2_video_dashinit.mp4?efg=eyJxZV9ncm91cHMiOiJbXCJpZ193ZWJfZGVsaXZlcnlfdnRzX290ZlwiXSIsInZlbmNvZGVfdGFnIjoidnRzX3ZvZF91cmxnZW4uNzIwLmNsaXBzLmJhc2VsaW5lIn0&_nc_ht=scontent-ams2-1.cdninstagram.com&_nc_cat=104&vs=5718904194868458_3914522413&_nc_vs=HBksFQIYT2lnX3hwdl9yZWVsc19wZXJtYW5lbnRfcHJvZC84MTQwNzMzOEIxNzI1NzJDMjBFRjM4MDBFQjYxOENBMl92aWRlb19kYXNoaW5pdC5tcDQVAALIAQAVABgkR01DRnZBbk1hcG9XdE1zRkFBZ2psVWlrRDhoMWJwUjFBQUFGFQICyAEAKAAYABsAFQAAJuaz3omihOhAFQIoAkMzLBdALTMzMzMzMxgSZGFzaF9iYXNlbGluZV8xX3YxEQB1%2FgcA&_nc_rid=05480f75fa&ccb=9-4&oh=00_AfC_Ezj0DNCt20ub1v-w_PzWd5tEJIwF75f2hPON6jwimQ&oe=63E7EB96&_nc_sid=74f7ba\",\"id\":\"5718904194868458v\"}],\"has_audio\":true,\"video_duration\":14.722,\"can_viewer_save\":true,\"is_in_profile_grid\":false,\"profile_grid_control_enabled\":false,\"view_count\":1462262,\"play_count\":8938421,\"fb_play_count\":7200871,\"organic_tracking_token\":\"eyJ2ZXJzaW9uIjo1LCJwYXlsb2FkIjp7ImlzX2FuYWx5dGljc190cmFja2VkIjp0cnVlLCJ1dWlkIjoiMDU0ODA4ZDY3M2MwNDU2OTllZThjYzc3Y2U1Mzc1OWEzMDAzMTYxMTEyODgwODE0NjMxIiwic2VydmVyX3Rva2VuIjoiMTY3NjA0NzQ3OTcyM3wzMDAzMTYxMTEyODgwODE0NjMxfDUxNzUyMDA3MDgwfDkyNWMxNmFkNWM4M2M2ZjIyNTNkYWQ0OTA2NjkzOGQ4MjQwZjIzMWJjYjI4MTY0ZjVmNGU5MjRjZWUyM2UwZWEifSwic2lnbmF0dXJlIjoiIn0=\",\"has_shared_to_fb\":0,\"product_type\":\"clips\",\"deleted_reason\":0,\"integrity_review_decision\":\"pending\",\"commerce_integrity_review_decision\":null,\"music_metadata\":null,\"is_artist_pick\":false,\"ig_media_sharing_disabled\":false,\"can_view_more_preview_comments\":false,\"hide_view_all_comment_entrypoint\":false,\"comments\":[],\"comment_count\":188,\"inline_composer_display_condition\":\"impression_trigger\",\"clips_metadata\":{\"music_info\":null,\"original_sound_info\":{\"audio_asset_id\":1203474230258487,\"music_canonical_id\":null,\"progressive_download_url\":\"https://scontent-ams4-1.xx.fbcdn.net/v/t39.12897-6/322710240_554310749900368_7465626627893011413_n.m4a?_nc_cat=109&ccb=1-7&_nc_sid=02c1ff&_nc_ohc=OixCShWofokAX_n3yd8&_nc_oc=AQlxNJz8Dn0cOzR3Sgqup4y4MScqPuPWOPvdTMZ-5ZfLK9sGJ2NE8kGiFtAcQtlYteY&_nc_ad=z-m&_nc_cid=0&_nc_ht=scontent-ams4-1.xx&oh=00_AfCdI0QjQ1p_YQK9jq470QfYl9w2F1aVcxtUH34yjv9Gig&oe=63EAD5D6\",\"duration_in_ms\":14790,\"dash_manifest\":\"<?xml version=\\\"1.0\\\" encoding=\\\"UTF-8\\\"?>\\n<!--Generated with https://github.com/google/shaka-packager version v1.6.0-release-->\\n<MPD xmlns=\\\"urn:mpeg:dash:schema:mpd:2011\\\" xmlns:xsi=\\\"http://www.w3.org/2001/XMLSchema-instance\\\" xmlns:xlink=\\\"http://www.w3.org/1999/xlink\\\" xmlns:cenc=\\\"urn:mpeg:cenc:2013\\\" xsi:schemaLocation=\\\"urn:mpeg:dash:schema:mpd:2011 DASH-MPD.xsd\\\" profiles=\\\"urn:mpeg:dash:profile:isoff-on-demand:2011\\\" minBufferTime=\\\"PT2S\\\" type=\\\"static\\\" mediaPresentationDuration=\\\"PT14.7896S\\\">\\n  <Period id=\\\"0\\\">\\n    <AdaptationSet id=\\\"0\\\" contentType=\\\"audio\\\" subsegmentAlignment=\\\"true\\\">\\n      <Representation id=\\\"0\\\" bandwidth=\\\"59909\\\" codecs=\\\"mp4a.40.2\\\" mimeType=\\\"audio/mp4\\\" audioSamplingRate=\\\"22050\\\">\\n        <AudioChannelConfiguration schemeIdUri=\\\"urn:mpeg:dash:23003:3:audio_channel_configuration:2011\\\" value=\\\"2\\\"/>\\n        <BaseURL>https://scontent-ams2-1.xx.fbcdn.net/v/t39.12897-6/322895738_711301597280057_858756267644956603_n.m4a?_nc_cat=104&amp;ccb=1-7&amp;_nc_sid=02c1ff&amp;_nc_ohc=JMVsJ9hYsR0AX9AdsvR&amp;_nc_ad=z-m&amp;_nc_cid=0&amp;_nc_ht=scontent-ams2-1.xx&amp;oh=00_AfAZmT-OsODqW_6BDRzPofzVnLr5UoMTZgJV0yLP5FK9Mw&amp;oe=63EAA29F</BaseURL>\\n        <SegmentBase indexRange=\\\"743-870\\\" timescale=\\\"44100\\\">\\n          <Initialization range=\\\"0-742\\\"/>\\n        </SegmentBase>\\n      </Representation>\\n    </AdaptationSet>\\n  </Period>\\n</MPD>\\n\",\"ig_artist\":{\"pk\":52373461498,\"pk_id\":\"52373461498\",\"username\":\"sarcastic_santosh_mahto\",\"full_name\":\"Santosh Mahto\",\"is_private\":false,\"is_verified\":false,\"profile_pic_id\":\"3005567378177724501_52373461498\",\"profile_pic_url\":\"https://scontent-ams2-1.cdninstagram.com/v/t51.2885-19/323311242_1546730839073966_386061680374159606_n.jpg?stp=dst-jpg_s150x150&_nc_ht=scontent-ams2-1.cdninstagram.com&_nc_cat=1&_nc_ohc=5Fai9gf0WnsAX_G9e9D&edm=APfKNqwBAAAA&ccb=7-5&oh=00_AfDqwM2blzsTJB9-YTyD00AvbUp646eD7Hr6JFPuRcZsHQ&oe=63EBA7DD&_nc_sid=74f7ba\"},\"should_mute_audio\":false,\"hide_remixing\":false,\"original_media_id\":3003161112880814631,\"time_created\":1672224844,\"original_audio_title\":\"Original audio\",\"consumption_info\":{\"is_bookmarked\":false,\"should_mute_audio_reason\":\"\",\"is_trending_in_clips\":false,\"should_mute_audio_reason_type\":null,\"display_media_id\":null},\"can_remix_be_shared_to_fb\":true,\"formatted_clips_media_count\":null,\"allow_creator_to_rename\":true,\"audio_parts\":[],\"is_explicit\":false,\"original_audio_subtype\":\"default\",\"is_audio_automatically_attributed\":true,\"is_reuse_disabled\":false,\"is_xpost_from_fb\":false,\"xpost_fb_creator_info\":null},\"audio_type\":\"original_sounds\",\"music_canonical_id\":\"18230483578085217\",\"featured_label\":null,\"mashup_info\":{\"mashups_allowed\":true,\"can_toggle_mashups_allowed\":false,\"has_been_mashed_up\":true,\"formatted_mashups_count\":null,\"original_media\":null,\"privacy_filtered_mashups_media_count\":null,\"non_privacy_filtered_mashups_media_count\":7,\"mashup_type\":null,\"is_creator_requesting_mashup\":false,\"has_nonmimicable_additional_audio\":false},\"nux_info\":null,\"viewer_interaction_settings\":null,\"branded_content_tag_info\":{\"can_add_tag\":false},\"shopping_info\":null,\"additional_audio_info\":{\"additional_audio_username\":null,\"audio_reattribution_info\":{\"should_allow_restore\":false}},\"is_shared_to_fb\":true,\"breaking_content_info\":null,\"challenge_info\":null,\"reels_on_the_rise_info\":null,\"breaking_creator_info\":null,\"asset_recommendation_info\":null,\"contextual_highlight_info\":null,\"clips_creation_entry_point\":\"clips\",\"audio_ranking_info\":{\"best_audio_cluster_id\":\"1590697864689398\"},\"template_info\":null,\"is_fan_club_promo_video\":false,\"disable_use_in_clips_client_cache\":false,\"content_appreciation_info\":null,\"achievements_info\":{\"show_achievements\":false,\"num_earned_achievements\":null},\"show_achievements\":false,\"show_tips\":false,\"merchandising_pill_info\":null,\"is_public_chat_welcome_video\":false,\"professional_clips_upsell_type\":0},\"media_cropping_info\":{\"feed_preview_crop\":null,\"square_crop\":{\"crop_bottom\":0.0,\"crop_left\":0.0,\"crop_right\":0.0,\"crop_top\":0.0},\"three_by_four_preview_crop\":null}}],\"num_results\":1,\"more_available\":false,\"auto_load_more_enabled\":false,\"showQRModal\":false}\n",
            "Audio Link :  https://scontent-ams4-1.xx.fbcdn.net/v/t39.12897-6/322710240_554310749900368_7465626627893011413_n.m4a?_nc_cat=109&ccb=1-7&_nc_sid=02c1ff&_nc_ohc=OixCShWofokAX_n3yd8&_nc_oc=AQlxNJz8Dn0cOzR3Sgqup4y4MScqPuPWOPvdTMZ-5ZfLK9sGJ2NE8kGiFtAcQtlYteY&_nc_ad=z-m&_nc_cid=0&_nc_ht=scontent-ams4-1.xx&oh=00_AfCdI0QjQ1p_YQK9jq470QfYl9w2F1aVcxtUH34yjv9Gig&oe=63EAD5D6\n",
            "\n",
            "Video Link :  https://scontent-ams2-1.cdninstagram.com/o1/v/t16/f1/m82/81407338B172572C20EF3800EB618CA2_video_dashinit.mp4?efg=eyJxZV9ncm91cHMiOiJbXCJpZ193ZWJfZGVsaXZlcnlfdnRzX290ZlwiXSIsInZlbmNvZGVfdGFnIjoidnRzX3ZvZF91cmxnZW4uNzIwLmNsaXBzLmJhc2VsaW5lIn0&_nc_ht=scontent-ams2-1.cdninstagram.com&_nc_cat=104&vs=5718904194868458_3914522413&_nc_vs=HBksFQIYT2lnX3hwdl9yZWVsc19wZXJtYW5lbnRfcHJvZC84MTQwNzMzOEIxNzI1NzJDMjBFRjM4MDBFQjYxOENBMl92aWRlb19kYXNoaW5pdC5tcDQVAALIAQAVABgkR01DRnZBbk1hcG9XdE1zRkFBZ2psVWlrRDhoMWJwUjFBQUFGFQICyAEAKAAYABsAFQAAJuaz3omihOhAFQIoAkMzLBdALTMzMzMzMxgSZGFzaF9iYXNlbGluZV8xX3YxEQB1%2FgcA&_nc_rid=05480f75fa&ccb=9-4&oh=00_AfC_Ezj0DNCt20ub1v-w_PzWd5tEJIwF75f2hPON6jwimQ&oe=63E7EB96&_nc_sid=74f7ba\"\n"
          ]
        }
      ]
    },
    {
      "cell_type": "code",
      "source": [],
      "metadata": {
        "id": "WjQ1FYs6NZM4"
      },
      "execution_count": null,
      "outputs": []
    }
  ]
}
